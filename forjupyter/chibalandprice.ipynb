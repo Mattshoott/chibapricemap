{
 "cells": [
  {
   "cell_type": "code",
   "execution_count": 3,
   "id": "05e00934-2176-41a2-971d-c1feeb101ca0",
   "metadata": {},
   "outputs": [
    {
     "name": "stdout",
     "output_type": "stream",
     "text": [
      "住所: 千葉県立中央博物館, 千葉市中央区青葉町９５５－２, 公園北通り, 青葉町, 中央区, 千葉市, 千葉県, 260-0853, 日本\n",
      "緯度: 35.599867\n",
      "経度: 140.138489\n"
     ]
    }
   ],
   "source": [
    "from geopy.geocoders import Nominatim\n",
    "\n",
    "geolocator = Nominatim(user_agent=\"my-test-app\")\n",
    "location = geolocator.geocode(\"千葉県 千葉市中央区矢作町\")\n",
    "\n",
    "print(\"住所:\", location.address)\n",
    "print(\"緯度:\", location.latitude)\n",
    "print(\"経度:\", location.longitude)"
   ]
  },
  {
   "cell_type": "code",
   "execution_count": 6,
   "id": "118d71e2-fed7-4d49-b9c7-85d335cb7735",
   "metadata": {},
   "outputs": [
    {
     "name": "stdout",
     "output_type": "stream",
     "text": [
      "[{'geometry': {'coordinates': [140.127182, 35.591328], 'type': 'Point'}, 'type': 'Feature', 'properties': {'addressCode': '', 'title': '千葉県千葉市中央区末広四丁目６番９号'}}]\n"
     ]
    }
   ],
   "source": [
    "import requests\n",
    "import urllib\n",
    "makeUrl = \"https://msearch.gsi.go.jp/address-search/AddressSearch?q=\"\n",
    "s_quote = urllib.parse.quote('千葉県 千葉市中央区末広4丁目6番9')\n",
    "response = requests.get(makeUrl + s_quote)\n",
    "print(response.json() )"
   ]
  },
  {
   "cell_type": "code",
   "execution_count": 13,
   "id": "fb0b424d-4184-4ae6-be6e-fc957fc12cc3",
   "metadata": {},
   "outputs": [
    {
     "name": "stdout",
     "output_type": "stream",
     "text": [
      "地図を land_price_map.html に保存しました。\n"
     ]
    }
   ],
   "source": [
    "import pandas as pd\n",
    "import requests\n",
    "import urllib\n",
    "import folium\n",
    "\n",
    "# CSV読み込み（Shift-JIS/CP932対応）\n",
    "df = pd.read_csv('chibalandprice.csv', dtype=str, encoding='cp932')\n",
    "\n",
    "# 緯度経度カラム作成\n",
    "df['lat'] = None\n",
    "df['lon'] = None\n",
    "\n",
    "# 国土地理院API\n",
    "base_url = \"https://msearch.gsi.go.jp/address-search/AddressSearch?q=\"\n",
    "\n",
    "for i, address in df['reallocation'].items():\n",
    "    try:\n",
    "        s_quote = urllib.parse.quote(address)\n",
    "        response = requests.get(base_url + s_quote)\n",
    "        data = response.json()\n",
    "        if data:\n",
    "            df.at[i, 'lat'] = float(data[0]['geometry']['coordinates'][1])\n",
    "            df.at[i, 'lon'] = float(data[0]['geometry']['coordinates'][0])\n",
    "    except Exception as e:\n",
    "        print(f\"Error at row {i}: {e}\")\n",
    "\n",
    "# NaN除去\n",
    "df = df.dropna(subset=['lat', 'lon'])\n",
    "\n",
    "# 地図作成\n",
    "map_center = [df['lat'].astype(float).mean(), df['lon'].astype(float).mean()]\n",
    "m = folium.Map(location=map_center, zoom_start=14)\n",
    "\n",
    "for _, row in df.iterrows():\n",
    "    folium.CircleMarker(\n",
    "        location=[float(row['lat']), float(row['lon'])],\n",
    "        radius=5,\n",
    "        color='red',\n",
    "        fill=True,\n",
    "        fill_color='red',\n",
    "        fill_opacity=0.7,\n",
    "        popup=f\"地価: {row['postedLandPriceOfR05']}\"\n",
    "    ).add_to(m)\n",
    "\n",
    "m.save('land_price_map.html')\n",
    "print(\"地図を land_price_map.html に保存しました。\")"
   ]
  },
  {
   "cell_type": "code",
   "execution_count": 18,
   "id": "cf1e377c-9824-4b35-92c5-0010c13d0f92",
   "metadata": {},
   "outputs": [
    {
     "name": "stdout",
     "output_type": "stream",
     "text": [
      "land_price_heatmap_full.html を出力しました。\n"
     ]
    }
   ],
   "source": [
    "import pandas as pd\n",
    "import requests, urllib\n",
    "import folium\n",
    "from branca.colormap import linear, LinearColormap\n",
    "\n",
    "# ==== CSV読み込み（文字コード対策） ====\n",
    "try:\n",
    "    df = pd.read_csv('chibalandprice.csv', dtype=str, encoding='cp932')\n",
    "except UnicodeDecodeError:\n",
    "    df = pd.read_csv('chibalandprice.csv', dtype=str, encoding='utf-8')\n",
    "\n",
    "# ==== 住所→緯度経度（既に lat/lon があるならこのブロックはスキップ可） ====\n",
    "if 'lat' not in df.columns or 'lon' not in df.columns:\n",
    "    df['lat'] = None\n",
    "    df['lon'] = None\n",
    "base_url = \"https://msearch.gsi.go.jp/address-search/AddressSearch?q=\"\n",
    "for i, address in df['reallocation'].items():\n",
    "    if pd.notna(df.at[i,'lat']) and pd.notna(df.at[i,'lon']):\n",
    "        continue\n",
    "    try:\n",
    "        s_quote = urllib.parse.quote(address)\n",
    "        data = requests.get(base_url + s_quote, timeout=10).json()\n",
    "        if data:\n",
    "            df.at[i, 'lat'] = float(data[0]['geometry']['coordinates'][1])\n",
    "            df.at[i, 'lon'] = float(data[0]['geometry']['coordinates'][0])\n",
    "    except Exception as e:\n",
    "        print(f\"[warn] row {i}: {e}\")\n",
    "\n",
    "# 緯度経度が無い行は除外 & 数値化\n",
    "df = df.dropna(subset=['lat','lon']).copy()\n",
    "df['lat'] = df['lat'].astype(float)\n",
    "df['lon'] = df['lon'].astype(float)\n",
    "df['postedLandPriceOfR05'] = pd.to_numeric(df['postedLandPriceOfR05'], errors='coerce')\n",
    "df = df.dropna(subset=['postedLandPriceOfR05'])\n",
    "\n",
    "# ==== 地価レンジ ====\n",
    "min_price = df['postedLandPriceOfR05'].min()\n",
    "max_price = df['postedLandPriceOfR05'].max()\n",
    "rng = (max_price - min_price) if max_price > min_price else 1.0  # 0割防止\n",
    "\n",
    "# ==== カラーマップ（順序は reversed → scale） ====\n",
    "try:\n",
    "    # これが通れば一番簡単（青→黄→赤）\n",
    "    colormap = linear.RdYlBu_11.reversed().scale(min_price, max_price)\n",
    "except Exception:\n",
    "    try:\n",
    "        # 古い版でも動くことが多い逆順プリセット\n",
    "        colormap = linear.RdYlBu_11_r.scale(min_price, max_price)\n",
    "    except Exception:\n",
    "        # 最終手段：手動で近い配色を指定（青→…→赤）\n",
    "        colormap = LinearColormap(\n",
    "            colors=['#313695','#4575b4','#74add1','#abd9e9','#e0f3f8',\n",
    "                    '#ffffbf','#fee090','#fdae61','#f46d43','#d73027'],\n",
    "            vmin=min_price, vmax=max_price\n",
    "        )\n",
    "colormap.caption = '地価 (R05年度)'\n",
    "\n",
    "# ==== 地図 ====\n",
    "m = folium.Map(location=[df['lat'].mean(), df['lon'].mean()], zoom_start=13)\n",
    "\n",
    "# ヒートマップ風：色＋サイズを地価で連続変化\n",
    "for _, r in df.iterrows():\n",
    "    price = r['postedLandPriceOfR05']\n",
    "    ratio = (price - min_price) / rng\n",
    "    radius = 3 + ratio * 15  # 3〜18px\n",
    "    color = colormap(price)\n",
    "    folium.CircleMarker(\n",
    "        location=[r['lat'], r['lon']],\n",
    "        radius=radius,\n",
    "        color=color,\n",
    "        fill=True,\n",
    "        fill_color=color,\n",
    "        fill_opacity=0.7,\n",
    "        popup=f\"地価: {price:,.0f}\"\n",
    "    ).add_to(m)\n",
    "\n",
    "colormap.add_to(m)\n",
    "m.save('land_price_heatmap_full.html')\n",
    "print(\"land_price_heatmap_full.html を出力しました。\")"
   ]
  },
  {
   "cell_type": "code",
   "execution_count": null,
   "id": "9f5a22d7-53ef-4795-a238-59a093f54db6",
   "metadata": {},
   "outputs": [],
   "source": []
  }
 ],
 "metadata": {
  "kernelspec": {
   "display_name": "Python (hackason)",
   "language": "python",
   "name": "hackason"
  },
  "language_info": {
   "codemirror_mode": {
    "name": "ipython",
    "version": 3
   },
   "file_extension": ".py",
   "mimetype": "text/x-python",
   "name": "python",
   "nbconvert_exporter": "python",
   "pygments_lexer": "ipython3",
   "version": "3.13.5"
  }
 },
 "nbformat": 4,
 "nbformat_minor": 5
}
